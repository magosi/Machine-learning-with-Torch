{
  "cells": [
    {
      "cell_type": "markdown",
      "metadata": {
        "id": "view-in-github",
        "colab_type": "text"
      },
      "source": [
        "<a href=\"https://colab.research.google.com/github/magosi/Machine-learning-with-Torch/blob/master/2000_names.ipynb\" target=\"_parent\"><img src=\"https://colab.research.google.com/assets/colab-badge.svg\" alt=\"Open In Colab\"/></a>"
      ]
    },
    {
      "cell_type": "code",
      "execution_count": null,
      "metadata": {
        "id": "lIYdn1woOS1n"
      },
      "outputs": [],
      "source": []
    },
    {
      "cell_type": "code",
      "source": [
        "import ee\n",
        "\n",
        "# Trigger the authentication flow.\n",
        "ee.Authenticate()\n",
        "\n",
        "# Initialize the library.\n",
        "ee.Initialize()"
      ],
      "metadata": {
        "id": "U-2SmtUeMyUG",
        "outputId": "4c7c7a3d-96e8-4999-a82f-8edd2178dde7",
        "colab": {
          "base_uri": "https://localhost:8080/"
        }
      },
      "execution_count": 1,
      "outputs": [
        {
          "output_type": "stream",
          "name": "stdout",
          "text": [
            "To authorize access needed by Earth Engine, open the following URL in a web browser and follow the instructions. If the web browser does not start automatically, please manually browse the URL below.\n",
            "\n",
            "    https://code.earthengine.google.com/client-auth?scopes=https%3A//www.googleapis.com/auth/earthengine%20https%3A//www.googleapis.com/auth/devstorage.full_control&request_id=Wf5MfU3Aer0tTM2aT3KiEpeNBx5fl5Sa0XvHeLhDSvc&tc=son-J4va32ymGuKxjhZ8hYfgd3O-h-K3mhyXobJ27ac&cc=WrUUwzftrUtRrJaZbMqO-7OtXahrNSB92SChlanZGrg\n",
            "\n",
            "The authorization workflow will generate a code, which you should paste in the box below.\n",
            "Enter verification code: 4/1AVHEtk7znUJsUKDTDM_rGN5_AJymivBFx38tJsmyu81CVEM3YYzCGdvo-Z0\n",
            "\n",
            "Successfully saved authorization token.\n"
          ]
        }
      ]
    },
    {
      "cell_type": "code",
      "source": [
        "dataset = ee.ImageCollection('MODIS/061/MOD08_M3').select('Cloud_Optical_Thickness_Liquid_Log_Mean_Mean') \\\n",
        "          .filter(ee.Filter.date('2000-01-01', '2000-12-31'))  "
      ],
      "metadata": {
        "id": "QHUydUpdM4jK"
      },
      "execution_count": 2,
      "outputs": []
    },
    {
      "cell_type": "code",
      "source": [
        "# Map a function over the collection to add a property with the calendar date to each image. \n",
        "# We can use the system:time_start property to get the date of each image. \n",
        "def add_date(image):\n",
        "    date = ee.Date(image.get('system:time_start'))\n",
        "    return image.set('date', date)\n",
        "\n",
        "dataset_with_dates = dataset.map(add_date)"
      ],
      "metadata": {
        "id": "LDfIGX0FM7dt"
      },
      "execution_count": 3,
      "outputs": []
    },
    {
      "cell_type": "code",
      "source": [
        "sorted_dataset = dataset_with_dates.sort('date')"
      ],
      "metadata": {
        "id": "D6-Khw_aNAyD"
      },
      "execution_count": 4,
      "outputs": []
    },
    {
      "cell_type": "code",
      "source": [
        "names = sorted_dataset.aggregate_array('system:index').getInfo()\n",
        "for name in names:\n",
        "    print(name)"
      ],
      "metadata": {
        "id": "omvl1a8LNFac",
        "outputId": "37ff0063-8bc0-4155-e029-116215f6ddb8",
        "colab": {
          "base_uri": "https://localhost:8080/"
        }
      },
      "execution_count": 5,
      "outputs": [
        {
          "output_type": "stream",
          "name": "stdout",
          "text": [
            "A2000032\n",
            "A2000061\n",
            "A2000092\n",
            "A2000122\n",
            "A2000153\n",
            "A2000183\n",
            "A2000214\n",
            "A2000245\n",
            "A2000275\n",
            "A2000306\n",
            "A2000336\n"
          ]
        }
      ]
    }
  ],
  "metadata": {
    "colab": {
      "name": "scratchpad",
      "provenance": [],
      "include_colab_link": true
    },
    "kernelspec": {
      "display_name": "Python 3",
      "name": "python3"
    }
  },
  "nbformat": 4,
  "nbformat_minor": 0
}